{
 "cells": [
  {
   "attachments": {},
   "cell_type": "markdown",
   "metadata": {},
   "source": [
    "# Week 5 Assignment\n",
    "## MBP 1201 - Introductory Biostatistics\n",
    "\n",
    "\n",
    "## Submission format\n",
    "This assignment should be submitted online on Quercus by Oct 24, 11:59 pm EDT. Your submission should include a single file:\n",
    "\n",
    "1. STUDENT_NAME_STUDENT_NUMBER.ipynb containing all of the Python code, plain-text answers, and figures you’ve used to answer the\n",
    "questions.\n",
    "\n",
    "\n",
    "In this assignment, we are going to use non-parametric statistics to look at the gene expression of a well-studied oncogene, MYC, in 4 lymph-related cancers: Burkitt lymphoma (BL), follicular lymphoma (FL), diffuse large B-cell lymphoma (DLBCL), and chronic lymphocytic leukemia (CLL).\n",
    "\n",
    "Start by loading the gene expression data (mRNA abundance) of the oncogene MYC in four types of lymph-related cancers. The data is available in the CSV file called `MYC_expression_lymph.csv`. Sample code is provided to load this in. \n",
    "\n",
    "## Exercise 1. Plotting and Qualitative Statistics (5 marks)\n",
    "Make the following plots to visualize the distribution of the data.\n",
    "\n",
    "* Histograms of mRNA abundance values in the entire dataset and separately for the subtypes\n",
    "* Boxplots of all four subtypes\n",
    "* QQ-plots relative to the theoretical normal distribution with same mean and variance with a trendline"
   ]
  },
  {
   "cell_type": "code",
   "execution_count": 1,
   "metadata": {},
   "outputs": [
    {
     "data": {
      "text/html": [
       "<div>\n",
       "<style scoped>\n",
       "    .dataframe tbody tr th:only-of-type {\n",
       "        vertical-align: middle;\n",
       "    }\n",
       "\n",
       "    .dataframe tbody tr th {\n",
       "        vertical-align: top;\n",
       "    }\n",
       "\n",
       "    .dataframe thead th {\n",
       "        text-align: right;\n",
       "    }\n",
       "</style>\n",
       "<table border=\"1\" class=\"dataframe\">\n",
       "  <thead>\n",
       "    <tr style=\"text-align: right;\">\n",
       "      <th></th>\n",
       "      <th>variable</th>\n",
       "      <th>value</th>\n",
       "      <th>subtype</th>\n",
       "      <th>patient</th>\n",
       "      <th>gene</th>\n",
       "    </tr>\n",
       "  </thead>\n",
       "  <tbody>\n",
       "    <tr>\n",
       "      <th>1</th>\n",
       "      <td>DO27857</td>\n",
       "      <td>23.542831</td>\n",
       "      <td>DLBCL</td>\n",
       "      <td>patient_1</td>\n",
       "      <td>MYC</td>\n",
       "    </tr>\n",
       "    <tr>\n",
       "      <th>2</th>\n",
       "      <td>DO52666</td>\n",
       "      <td>22.685371</td>\n",
       "      <td>DLBCL</td>\n",
       "      <td>patient_2</td>\n",
       "      <td>MYC</td>\n",
       "    </tr>\n",
       "    <tr>\n",
       "      <th>3</th>\n",
       "      <td>DO6585</td>\n",
       "      <td>2.739602</td>\n",
       "      <td>DLBCL</td>\n",
       "      <td>patient_3</td>\n",
       "      <td>MYC</td>\n",
       "    </tr>\n",
       "    <tr>\n",
       "      <th>4</th>\n",
       "      <td>DO27765</td>\n",
       "      <td>219.628077</td>\n",
       "      <td>DLBCL</td>\n",
       "      <td>patient_4</td>\n",
       "      <td>MYC</td>\n",
       "    </tr>\n",
       "    <tr>\n",
       "      <th>5</th>\n",
       "      <td>DO52655</td>\n",
       "      <td>34.945026</td>\n",
       "      <td>DLBCL</td>\n",
       "      <td>patient_5</td>\n",
       "      <td>MYC</td>\n",
       "    </tr>\n",
       "  </tbody>\n",
       "</table>\n",
       "</div>"
      ],
      "text/plain": [
       "  variable       value subtype    patient gene\n",
       "1  DO27857   23.542831   DLBCL  patient_1  MYC\n",
       "2  DO52666   22.685371   DLBCL  patient_2  MYC\n",
       "3   DO6585    2.739602   DLBCL  patient_3  MYC\n",
       "4  DO27765  219.628077   DLBCL  patient_4  MYC\n",
       "5  DO52655   34.945026   DLBCL  patient_5  MYC"
      ]
     },
     "execution_count": 1,
     "metadata": {},
     "output_type": "execute_result"
    }
   ],
   "source": [
    "import pandas as pd\n",
    "import matplotlib.pyplot as plt\n",
    "from scipy.stats import mannwhitneyu, kruskal, norm, probplot, skew, shapiro, wilcoxon\n",
    "import numpy as np\n",
    "\n",
    "dataset = pd.read_csv(\"MYC_expression_lymph.csv\", sep=\",\", header=0, index_col=0)\n",
    "\n",
    "dataset.head()"
   ]
  },
  {
   "cell_type": "markdown",
   "metadata": {},
   "source": [
    "- Part 3 QQ-Plots"
   ]
  },
  {
   "cell_type": "code",
   "execution_count": 2,
   "metadata": {},
   "outputs": [
    {
     "data": {
      "image/png": "[encoded data removed]",
      "text/plain": [
       "<Figure size 700x500 with 1 Axes>"
      ]
     },
     "metadata": {},
     "output_type": "display_data"
    }
   ],
   "source": [
    "mean = np.mean(dataset.value)\n",
    "std = np.std(dataset.value, ddof=1)\n",
    "\n",
    "fig, ax = plt.subplots(figsize=(7,5))\n",
    "_, _ = probplot(dataset.value, dist=\"norm\", plot=ax)\n",
    "\n",
    "ax.legend(['mRNA Values', 'Trendline'])\n",
    "ax.set_title('QQ Plot')\n",
    "ax.set_xlabel('Theoretical Quantiles')\n",
    "ax.set_ylabel('Sample Quantiles')\n",
    "plt.show()\n"
   ]
  },
  {
   "attachments": {},
   "cell_type": "markdown",
   "metadata": {},
   "source": [
    "## Exercise 2. Non-Parametric Statistical Calculations (5 marks)\n",
    "Calculate the two-tailed Wilcoxon ranked sum tests (aka two-tailed Mann-Whitney U tests) for the gene expression values of MYC for the following comparisons. Is there a significant difference between gene expression values?\n",
    "\n",
    "* DLBCL vs CLL\n",
    "\n",
    "* BL vs FL\n",
    "\n",
    "Now, compare the MYC gene expression values across all four subtypes using a single application of a non-parametric statistical test.\n"
   ]
  },
  {
   "cell_type": "markdown",
   "metadata": {},
   "source": [
    "- Part 1 DLBCL vs CLL\\\n",
    "According to the p-value of the two-tailed Mann-Whitney U test, it is less than 0.025 (the significance level is 0.05), we now should reject the null hypothesis that DLBCL is same as CLL subtype mRNA values."
   ]
  },
  {
   "cell_type": "code",
   "execution_count": 4,
   "metadata": {},
   "outputs": [
    {
     "name": "stdout",
     "output_type": "stream",
     "text": [
      "statistic and p-value of two-tailed Mann-Whitney U test between DLBCL and CLL respectively: 2209.0 and 0.001848150125386994\n"
     ]
    }
   ],
   "source": [
    "# Compare DLBCL and CLL\n",
    "DLBCL = dataset.value[dataset.subtype == 'DLBCL']\n",
    "CLL = dataset.value[dataset.subtype == 'CLL']\n",
    "\n",
    "ret_dlccll = mannwhitneyu(DLBCL, CLL, alternative='two-sided')\n",
    "print(f'statistic and p-value of two-tailed Mann-Whitney U test between DLBCL and CLL respectively: {ret_dlccll.statistic} and {ret_dlccll.pvalue}')"
   ]
  },
  {
   "cell_type": "markdown",
   "metadata": {},
   "source": [
    "- Part 1 BL vs FL\\\n",
    "According to the p-value of the two-tailed Mann-Whitney U test, it is larger than 0.025 (the significance level is 0.05), we now should fail to reject the null hypothesis that BL is same as FL subtype mRNA values, which is possible that there is a significant difference between the BL and FL subtype mRNA values."
   ]
  },
  {
   "cell_type": "code",
   "execution_count": 5,
   "metadata": {},
   "outputs": [
    {
     "name": "stdout",
     "output_type": "stream",
     "text": [
      "statistic and p-value of two-tailed Mann-Whitney U test between BL and FL respectively: 346.0 and 0.4516372815110762\n"
     ]
    }
   ],
   "source": [
    "# Compare DLBCL and CLL\n",
    "BL = dataset.value[dataset.subtype == 'BL']\n",
    "FL = dataset.value[dataset.subtype == 'FL']\n",
    "\n",
    "ret_blfl = mannwhitneyu(BL, FL, alternative='two-sided')\n",
    "print(f'statistic and p-value of two-tailed Mann-Whitney U test between BL and FL respectively: {ret_blfl.statistic} and {ret_blfl.pvalue}')"
   ]
  },
  {
   "attachments": {},
   "cell_type": "markdown",
   "metadata": {},
   "source": [
    "## Exercise 3. Bootstrapping Fold Change Distributions (5 marks)\n",
    "* Compute the mean Fold Change (FC) of MYC in tumors of CLL vs DLBCL subtypes.\n",
    "* A function `select_subtype(df, tumor_type)` is given to select 20 values of `df` with a subtype `tumor_type`. Run this function 1000 times for each tumor subtype and store the results. Plot a histogram of the mean values of the function output for the `DLBCL` subtype. \n",
    "* Using the output of the above step, create a distribution of FC values for (CLL vs DLBCL) and (BL vs DLBCL) subtypes by treating each of the 20-element selections as its own patient population. Are these FC distributions normal at the level $\\alpha=0.05$? \n",
    "* Based on your result above, use the appropriate (parametric or non-parametric) test to determine if there is a difference between these FC distributions at the level $\\alpha=0.05$. "
   ]
  },
  {
   "cell_type": "code",
   "execution_count": null,
   "metadata": {},
   "outputs": [],
   "source": [
    "def select_subtype(df, tumor_subtype):\n",
    "    \"\"\"\n",
    "    Function to select 20 values in df with tumor subtype inputted. \n",
    "    \"\"\"\n",
    "    return np.random.choice(df.loc[df.subtype == tumor_subtype].value.to_numpy(), size=20)"
   ]
  },
  {
   "cell_type": "markdown",
   "metadata": {},
   "source": [
    "## Exercise 4. Advantages and Disadvantages of Non-Parametric Statistics (5 marks)\n",
    "What are the advantages of using non-parametric statistical tests? Why aren't non-parametric tests used when the datasets follow a normal distribution?"
   ]
  },
  {
   "attachments": {},
   "cell_type": "markdown",
   "metadata": {},
   "source": [
    "## Exercise 5. PCA vs ICA (1 mark bonus, optional)\n",
    "\n",
    "What are the main differences between principal component analysis and independent component analysis? What are the main linear algebra tools used for PCA and ICA, respectively? "
   ]
  }
 ],
 "metadata": {
  "kernelspec": {
   "display_name": "Python 3",
   "language": "python",
   "name": "python3"
  },
  "language_info": {
   "codemirror_mode": {
    "name": "ipython",
    "version": 3
   },
   "file_extension": ".py",
   "mimetype": "text/x-python",
   "name": "python",
   "nbconvert_exporter": "python",
   "pygments_lexer": "ipython3",
   "version": "3.10.10"
  },
  "vscode": {
   "interpreter": {
    "hash": "b0fa6594d8f4cbf19f97940f81e996739fb7646882a419484c72d19e05852a7e"
   }
  }
 },
 "nbformat": 4,
 "nbformat_minor": 4
}
